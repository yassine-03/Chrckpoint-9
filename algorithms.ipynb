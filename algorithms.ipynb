{
 "cells": [
  {
   "cell_type": "code",
   "execution_count": 7,
   "id": "b0109e75",
   "metadata": {},
   "outputs": [
    {
     "data": {
      "text/plain": [
       "False"
      ]
     },
     "execution_count": 7,
     "metadata": {},
     "output_type": "execute_result"
    }
   ],
   "source": [
    "l = [1, 2, 3, 5, 8]\n",
    "n = 6\n",
    "\n",
    "def binary_search(l, n):\n",
    "    flag = False\n",
    "    while len(l) != 1:\n",
    "        mid = len(l) // 2\n",
    "        if n == l[mid]:\n",
    "            flag = True\n",
    "            break\n",
    "        elif n > l[mid]:\n",
    "            l = l[mid:]\n",
    "        else :\n",
    "            l = l[mid:]\n",
    "            \n",
    "            \n",
    "            \n",
    "    return flag\n",
    "\n",
    "            \n",
    "binary_search(l,n)      "
   ]
  },
  {
   "cell_type": "code",
   "execution_count": 5,
   "id": "9995a460",
   "metadata": {},
   "outputs": [
    {
     "data": {
      "text/plain": [
       "8"
      ]
     },
     "execution_count": 5,
     "metadata": {},
     "output_type": "execute_result"
    }
   ],
   "source": [
    "def pwer(a, b):\n",
    "    if b == 0 :\n",
    "        return 1\n",
    "    else :\n",
    "        return a * pwer(a, b-1)\n",
    "    \n",
    "\n",
    "    \n",
    "pwer(2, 3)"
   ]
  },
  {
   "cell_type": "code",
   "execution_count": 9,
   "id": "f8a98ec2",
   "metadata": {},
   "outputs": [
    {
     "name": "stdout",
     "output_type": "stream",
     "text": [
      "[13, 22, 29, 37, 49, 46, 52, 56, 71]\n",
      "[13, 22, 29, 37, 46, 49, 52, 56, 71]\n",
      "[13, 22, 29, 37, 46, 49, 52, 56, 71]\n",
      "[13, 22, 29, 37, 46, 49, 52, 56, 71]\n",
      "[13, 22, 29, 37, 46, 49, 52, 56, 71]\n",
      "[13, 22, 29, 37, 46, 49, 52, 56, 71]\n",
      "[13, 22, 29, 37, 46, 49, 52, 56, 71]\n",
      "[13, 22, 29, 37, 46, 49, 52, 56, 71]\n",
      "[13, 22, 29, 37, 46, 49, 52, 56, 71]\n"
     ]
    }
   ],
   "source": [
    "l = [29,13,22,37,52,49,46,71,56]\n",
    "\n",
    "for i in range (len(l)):\n",
    "    for j in range (len(l)-1-i):\n",
    "        if l[j] > l[j+1]:\n",
    "            l[j], l[j+1] = l[j+1], l[j]\n",
    "    \n",
    "    print(l)\n",
    "        \n",
    "            "
   ]
  },
  {
   "cell_type": "code",
   "execution_count": 15,
   "id": "e52a8fa5",
   "metadata": {},
   "outputs": [
    {
     "data": {
      "text/plain": [
       "[13, 13, 13, 13, 46, 52, 52, 56, 71]"
      ]
     },
     "execution_count": 15,
     "metadata": {},
     "output_type": "execute_result"
    }
   ],
   "source": [
    "l = [29,13,22,37,52,49,46,71,56]\n",
    "\n",
    "def merge(l1, l2):\n",
    "    i = 0\n",
    "    j = 0\n",
    "    L = []\n",
    "    while i < len(l1) and j < len(l2):\n",
    "        if l1[i] < l2[j] :\n",
    "            L.append(l1[j])\n",
    "            i = i + 1\n",
    "        else :\n",
    "            L.append(l2[j])\n",
    "            j = j + 1\n",
    "    \n",
    "    \n",
    "    if i == len(l1):\n",
    "        L = L + l2[j:]\n",
    "    else :\n",
    "        \n",
    "        L = L + l1[i:]\n",
    "        \n",
    "    return L\n",
    "\n",
    "\n",
    "def mergesort(l):\n",
    "    if len(l) <= 1:\n",
    "        return l\n",
    "    else:\n",
    "        mid = len(l) // 2\n",
    "        \n",
    "        return merge(mergesort(l[:mid]), mergesort(l[mid:]))\n",
    "    \n",
    "    \n",
    "\n",
    "mergesort(l)        "
   ]
  },
  {
   "cell_type": "code",
   "execution_count": 16,
   "id": "99d21156",
   "metadata": {},
   "outputs": [
    {
     "name": "stdout",
     "output_type": "stream",
     "text": [
      "[3, 5, 8, 9, 10, 12]\n"
     ]
    }
   ],
   "source": [
    "def partition(array, start, end):\n",
    "    pivot = array[start]\n",
    "    low = start + 1\n",
    "    high = end\n",
    "    while True:\n",
    "        while low <= high and array[high] >= pivot:\n",
    "            high = high - 1\n",
    "\n",
    "        while low <= high and array[low] <= pivot:\n",
    "            low = low + 1\n",
    "\n",
    "        if low <= high:\n",
    "            array[low], array[high] = array[high], array[low]\n",
    "        else:\n",
    "            break\n",
    "\n",
    "    array[start], array[high] = array[high], array[start]\n",
    "    return high\n",
    "def quick_sort(array, start, end):\n",
    "    if start >= end:\n",
    "        return\n",
    "\n",
    "    p = partition(array, start, end)\n",
    "    quick_sort(array, start, p-1)\n",
    "    quick_sort(array, p+1, end)\n",
    "array = [12,5,9,10,8,3]\n",
    "quick_sort(array, 0, len(array) - 1)\n",
    "print(array)"
   ]
  },
  {
   "cell_type": "code",
   "execution_count": null,
   "id": "829e53a9",
   "metadata": {},
   "outputs": [],
   "source": []
  }
 ],
 "metadata": {
  "kernelspec": {
   "display_name": "Python 3 (ipykernel)",
   "language": "python",
   "name": "python3"
  },
  "language_info": {
   "codemirror_mode": {
    "name": "ipython",
    "version": 3
   },
   "file_extension": ".py",
   "mimetype": "text/x-python",
   "name": "python",
   "nbconvert_exporter": "python",
   "pygments_lexer": "ipython3",
   "version": "3.9.7"
  }
 },
 "nbformat": 4,
 "nbformat_minor": 5
}
